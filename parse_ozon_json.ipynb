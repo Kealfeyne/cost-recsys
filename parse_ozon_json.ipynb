{
 "cells": [
  {
   "cell_type": "code",
   "execution_count": 2,
   "metadata": {},
   "outputs": [
    {
     "name": "stdout",
     "output_type": "stream",
     "text": [
      "Название продукта: PANTENE Шампунь для волос Слияние с природой Укрепление и блеск 900мл\n",
      "Цена:  803 ₽ ,  836 ₽ \n",
      "Рейтинг: 4.9\n",
      "Количество отзывов: 1 016 отзывов\n",
      "Изображения: ['https://cdn1.ozone.ru/s3/multimedia-1-x/7065874929.jpg', 'https://cdn1.ozone.ru/s3/multimedia-1-j/7065755935.jpg', 'https://cdn1.ozone.ru/s3/multimedia-1-h/7065874949.jpg', 'https://cdn1.ozone.ru/s3/multimedia-1-m/7065755938.jpg', 'https://cdn1.ozone.ru/s3/multimedia-1-g/7065874912.jpg', 'https://cdn1.ozone.ru/s3/multimedia-1-s/7065874924.jpg', 'https://cdn1.ozone.ru/s3/multimedia-1-z/7065874931.jpg']\n",
      "Видео: ['https://cdnvideo.v.ozone.ru/vod/video-53/01J81SBMYM17G7HFBEVK6AVNPP/asset_1_h264.mp4?type=pdp']\n",
      "Ссылка на продукт: https://www.ozon.ru/product/pantene-shampun-dlya-volos-sliyanie-s-prirodoy-ukreplenie-i-blesk-900ml-1130144025/?from=share_android&utm_campaign=productpage_link&utm_medium=share_button&utm_source=smm\n"
     ]
    }
   ],
   "source": [
    "import json\n",
    "\n",
    "def parse_ozon_json(file_path):\n",
    "    with open(file_path, 'r', encoding='utf-8') as file:\n",
    "        data = json.load(file)\n",
    "\n",
    "    # Извлекаем название продукта\n",
    "    product_name = json.loads(data['widgetStates'].get('text-3109265-default-1', '{}')).get('atoms', [{}])[0].get('expandableText', {}).get('text', 'Не указано')\n",
    "\n",
    "    # Извлекаем цену\n",
    "    ozonPrice, usualPrice = \"\", \"\"\n",
    "    dd = data[\"widgetStates\"]\n",
    "    for key in dd:\n",
    "        if key.startswith('price-'):\n",
    "            ddd = json.loads(dd[key])\n",
    "            ozonPrice = ddd[\"ozonCardPrice\"][\"accentPrice\"][\"price\"][\"price\"][\"price\"][\"text\"].split(\" ₽\")[0]\n",
    "            usualPrice = ddd[\"ozonCardPrice\"][\"price\"][\"price\"][\"price\"][\"text\"].split(\" ₽\")[0]\n",
    "\n",
    "    # Извлекаем рейтинг и количество отзывов\n",
    "    rating_info = json.loads(data['widgetStates'].get('ugcCounters-3554678-default-1', '{}')).get('blocks', [{}])[0]\n",
    "    rating = rating_info.get('singleBlock', {}).get('title', {}).get('text', 'Не указано')\n",
    "    reviews = rating_info.get('singleBlock', {}).get('subtitle', {}).get('text', 'Не указано')\n",
    "\n",
    "    # Извлекаем изображения и видео\n",
    "    gallery = json.loads(data['widgetStates'].get('galleryPreview-3484024-default-1', '{}')).get('items', [])\n",
    "    images = [item['content']['image']['url'] for item in gallery if item['content']['type'] == 'image']\n",
    "    videos = [item['content']['video']['video']['link'] for item in gallery if item['content']['type'] == 'video']\n",
    "\n",
    "    # Извлекаем ссылку на продукт\n",
    "    product_link = json.loads(data['widgetStates'].get('shareLink-3290473-default-1', '{}')).get('shareButton', {}).get('action', {}).get('link', 'Не указано')\n",
    "\n",
    "    # Формируем результат\n",
    "    product_data = {\n",
    "        'Название продукта': product_name,\n",
    "        'Цена': f\" {ozonPrice} ,  {usualPrice} \",\n",
    "        'Рейтинг': rating,\n",
    "        'Количество отзывов': reviews,\n",
    "        'Изображения': images,\n",
    "        'Видео': videos,\n",
    "        'Ссылка на продукт': product_link\n",
    "    }\n",
    "\n",
    "    return product_data\n",
    "\n",
    "# Пример использования\n",
    "file_path = 'c:/Users/MSI-PC/Desktop/example_json.json'\n",
    "parsed_data = parse_ozon_json(file_path)\n",
    "for key, value in parsed_data.items():\n",
    "    print(f\"{key}: {value}\")"
   ]
  }
 ],
 "metadata": {
  "kernelspec": {
   "display_name": "Python 3",
   "language": "python",
   "name": "python3"
  },
  "language_info": {
   "codemirror_mode": {
    "name": "ipython",
    "version": 3
   },
   "file_extension": ".py",
   "mimetype": "text/x-python",
   "name": "python",
   "nbconvert_exporter": "python",
   "pygments_lexer": "ipython3",
   "version": "3.10.8"
  }
 },
 "nbformat": 4,
 "nbformat_minor": 2
}
