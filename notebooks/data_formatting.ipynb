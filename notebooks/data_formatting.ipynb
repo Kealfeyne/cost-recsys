{
 "cells": [
  {
   "cell_type": "code",
   "execution_count": null,
   "metadata": {
    "vscode": {
     "languageId": "plaintext"
    }
   },
   "outputs": [],
   "source": [
    "# TODO: реализовать временное представление для подачи в модель, планируется подача в модель информации по 2-3 предыдущим неделям"
   ]
  }
 ],
 "metadata": {
  "language_info": {
   "name": "python"
  }
 },
 "nbformat": 4,
 "nbformat_minor": 2
}
