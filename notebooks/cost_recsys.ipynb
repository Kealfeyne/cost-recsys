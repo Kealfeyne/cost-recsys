{
  "nbformat": 4,
  "nbformat_minor": 0,
  "metadata": {
    "colab": {
      "provenance": []
    },
    "kernelspec": {
      "name": "python3",
      "display_name": "Python 3"
    },
    "language_info": {
      "name": "python"
    }
  },
  "cells": [
    {
      "cell_type": "code",
      "execution_count": null,
      "metadata": {
        "colab": {
          "base_uri": "https://localhost:8080/"
        },
        "id": "zWEh6EB8ItY9",
        "outputId": "4cc42f04-8841-4929-b1df-2ec03e98a29a"
      },
      "outputs": [
        {
          "output_type": "stream",
          "name": "stdout",
          "text": [
            "Mounted at /content/drive\n"
          ]
        }
      ],
      "source": [
        "from google.colab import drive\n",
        "drive.mount('/content/drive')"
      ]
    },
    {
      "cell_type": "code",
      "source": [
        "import pandas as pd\n",
        "import numpy as np\n",
        "from matplotlib import pyplot as plt"
      ],
      "metadata": {
        "id": "Ju1-9XQuJKsP"
      },
      "execution_count": null,
      "outputs": []
    },
    {
      "cell_type": "code",
      "source": [
        "import json\n",
        "import pandas as pd\n",
        "\n",
        "# Загрузка JSON файла\n",
        "with open('/content/example_json.json', 'r', encoding='utf-8') as file:\n",
        "    data = json.load(file)\n",
        "\n",
        "\n",
        "layout_data = data.get('layout', [])\n",
        "layout_df = pd.json_normalize(layout_data, max_level=1)\n",
        "\n",
        "# Приведение типов (пример для числовых колонок)\n",
        "for col in layout_df.columns:\n",
        "    if col in ['id', 'version']:\n",
        "        layout_df[col] = pd.to_numeric(layout_df[col], errors='coerce')\n",
        "\n",
        "# Удаление строк с некорректными данными (если требуется)\n",
        "layout_df.dropna(subset=['id', 'version'], inplace=True)\n",
        "\n",
        "# Сохранение очищенных данных в CSV для последующего анализа\n",
        "layout_df.to_csv(\"/content/cleaned_layout_data.csv\", index=False)\n",
        "\n",
        "# Подготовка данных для модели\n",
        "\n",
        "categorical_columns = ['component', 'vertical', 'name']\n",
        "layout_df = pd.get_dummies(layout_df, columns=categorical_columns, drop_first=True)\n",
        "\n",
        "# Сохранение данных для модели\n",
        "layout_df.to_csv('/content/model_input_data.csv', index=False)\n",
        "\n",
        "\n"
      ],
      "metadata": {
        "id": "zpCYQMfuqzfR"
      },
      "execution_count": 4,
      "outputs": []
    }
  ]
}